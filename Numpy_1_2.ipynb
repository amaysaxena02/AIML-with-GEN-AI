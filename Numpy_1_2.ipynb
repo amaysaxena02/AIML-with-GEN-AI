{
  "nbformat": 4,
  "nbformat_minor": 0,
  "metadata": {
    "colab": {
      "provenance": [],
      "authorship_tag": "ABX9TyN2E1uBJaUlbE1WGyH4lO8F",
      "include_colab_link": true
    },
    "kernelspec": {
      "name": "python3",
      "display_name": "Python 3"
    },
    "language_info": {
      "name": "python"
    }
  },
  "cells": [
    {
      "cell_type": "markdown",
      "metadata": {
        "id": "view-in-github",
        "colab_type": "text"
      },
      "source": [
        "<a href=\"https://colab.research.google.com/github/amaysaxena02/AIML-with-GEN-AI/blob/main/Numpy_1_2.ipynb\" target=\"_parent\"><img src=\"https://colab.research.google.com/assets/colab-badge.svg\" alt=\"Open In Colab\"/></a>"
      ]
    },
    {
      "cell_type": "code",
      "execution_count": null,
      "metadata": {
        "id": "qW7vCC31dsXH"
      },
      "outputs": [],
      "source": [
        "import numpy as np\n",
        "sample_arr = np.arange(1,11)"
      ]
    },
    {
      "cell_type": "code",
      "source": [
        "sample_arr"
      ],
      "metadata": {
        "colab": {
          "base_uri": "https://localhost:8080/"
        },
        "id": "i6HjNg-qd02Z",
        "outputId": "6478579d-21eb-48c5-bd08-a835f15141a0"
      },
      "execution_count": null,
      "outputs": [
        {
          "output_type": "execute_result",
          "data": {
            "text/plain": [
              "array([ 1,  2,  3,  4,  5,  6,  7,  8,  9, 10])"
            ]
          },
          "metadata": {},
          "execution_count": 151
        }
      ]
    },
    {
      "cell_type": "code",
      "source": [
        "sample_arr[2]\n",
        "sample_arr[0:4]"
      ],
      "metadata": {
        "colab": {
          "base_uri": "https://localhost:8080/"
        },
        "id": "4JmvhSwLd2Z9",
        "outputId": "e4f0df34-db6f-4723-e217-4e95310e4749"
      },
      "execution_count": null,
      "outputs": [
        {
          "output_type": "execute_result",
          "data": {
            "text/plain": [
              "array([1, 2, 3, 4])"
            ]
          },
          "metadata": {},
          "execution_count": 152
        }
      ]
    },
    {
      "cell_type": "code",
      "source": [
        "sample_arr[3:]"
      ],
      "metadata": {
        "colab": {
          "base_uri": "https://localhost:8080/"
        },
        "id": "JWyXpeogeNZc",
        "outputId": "d3badb4f-e449-46c0-f2db-0aefac110982"
      },
      "execution_count": null,
      "outputs": [
        {
          "output_type": "execute_result",
          "data": {
            "text/plain": [
              "array([ 4,  5,  6,  7,  8,  9, 10])"
            ]
          },
          "metadata": {},
          "execution_count": 153
        }
      ]
    },
    {
      "cell_type": "code",
      "source": [
        "sample_mat = np.array([[1,2,3],[4,5,6],[7,8,9]])\n",
        "sample_mat"
      ],
      "metadata": {
        "colab": {
          "base_uri": "https://localhost:8080/"
        },
        "id": "TZ4-JktWeQjb",
        "outputId": "7b3f2a66-7911-4f27-e74c-1f3061428e74"
      },
      "execution_count": null,
      "outputs": [
        {
          "output_type": "execute_result",
          "data": {
            "text/plain": [
              "array([[1, 2, 3],\n",
              "       [4, 5, 6],\n",
              "       [7, 8, 9]])"
            ]
          },
          "metadata": {},
          "execution_count": 154
        }
      ]
    },
    {
      "cell_type": "code",
      "source": [
        "type(sample_mat)"
      ],
      "metadata": {
        "colab": {
          "base_uri": "https://localhost:8080/"
        },
        "id": "MjXqgIoVedVK",
        "outputId": "3389ad41-7858-4b3d-d006-0d895474b173"
      },
      "execution_count": null,
      "outputs": [
        {
          "output_type": "execute_result",
          "data": {
            "text/plain": [
              "numpy.ndarray"
            ]
          },
          "metadata": {},
          "execution_count": 155
        }
      ]
    },
    {
      "cell_type": "code",
      "source": [
        "sample_mat[1:2]"
      ],
      "metadata": {
        "colab": {
          "base_uri": "https://localhost:8080/"
        },
        "id": "JV_WHbZfemR9",
        "outputId": "3b2f3f05-b70e-4a93-ff19-21601accffc6"
      },
      "execution_count": null,
      "outputs": [
        {
          "output_type": "execute_result",
          "data": {
            "text/plain": [
              "array([[4, 5, 6]])"
            ]
          },
          "metadata": {},
          "execution_count": 156
        }
      ]
    },
    {
      "cell_type": "code",
      "source": [
        "sample_mat[1][2]"
      ],
      "metadata": {
        "colab": {
          "base_uri": "https://localhost:8080/"
        },
        "id": "uNjB6dV3fQco",
        "outputId": "18945a3e-016b-4e0b-943d-7674f4ed6d1b"
      },
      "execution_count": null,
      "outputs": [
        {
          "output_type": "execute_result",
          "data": {
            "text/plain": [
              "np.int64(6)"
            ]
          },
          "metadata": {},
          "execution_count": 157
        }
      ]
    },
    {
      "cell_type": "code",
      "source": [
        "sample_mat[:2,1:]"
      ],
      "metadata": {
        "colab": {
          "base_uri": "https://localhost:8080/"
        },
        "id": "4awTkAHpflCT",
        "outputId": "d53bc306-ebde-412e-9996-a6db3891452e"
      },
      "execution_count": null,
      "outputs": [
        {
          "output_type": "execute_result",
          "data": {
            "text/plain": [
              "array([[2, 3],\n",
              "       [5, 6]])"
            ]
          },
          "metadata": {},
          "execution_count": 158
        }
      ]
    },
    {
      "cell_type": "code",
      "source": [
        "sample_mat[1,1:]"
      ],
      "metadata": {
        "colab": {
          "base_uri": "https://localhost:8080/"
        },
        "id": "JRMgxPiJgUEc",
        "outputId": "7aeea99e-001d-4c45-8fe4-cb6cefa78971"
      },
      "execution_count": null,
      "outputs": [
        {
          "output_type": "execute_result",
          "data": {
            "text/plain": [
              "array([5, 6])"
            ]
          },
          "metadata": {},
          "execution_count": 159
        }
      ]
    },
    {
      "cell_type": "code",
      "source": [
        "sample_mat[0:5]"
      ],
      "metadata": {
        "colab": {
          "base_uri": "https://localhost:8080/"
        },
        "id": "4MiWBWRngXs4",
        "outputId": "d45dc531-f0ce-4b0f-e635-d7a9f3c6b867"
      },
      "execution_count": null,
      "outputs": [
        {
          "output_type": "execute_result",
          "data": {
            "text/plain": [
              "array([[1, 2, 3],\n",
              "       [4, 5, 6],\n",
              "       [7, 8, 9]])"
            ]
          },
          "metadata": {},
          "execution_count": 160
        }
      ]
    },
    {
      "cell_type": "markdown",
      "source": [
        "Broadcasting, Slice, Copy"
      ],
      "metadata": {
        "id": "i_L8a_7Ggux9"
      }
    },
    {
      "cell_type": "code",
      "source": [
        "sample_arr[0:3] = 400\n",
        "sample_arr"
      ],
      "metadata": {
        "colab": {
          "base_uri": "https://localhost:8080/"
        },
        "id": "xTI-GKJ_gh21",
        "outputId": "ad420c11-cf2c-441c-ba80-ca6a422ab9c6"
      },
      "execution_count": null,
      "outputs": [
        {
          "output_type": "execute_result",
          "data": {
            "text/plain": [
              "array([400, 400, 400,   4,   5,   6,   7,   8,   9,  10])"
            ]
          },
          "metadata": {},
          "execution_count": 161
        }
      ]
    },
    {
      "cell_type": "code",
      "source": [
        "print(id(sample_arr[0:5]))\n",
        "slice_of_sample_arr = sample_arr[0:5]\n",
        "s = slice_of_sample_arr\n",
        "print(id(slice_of_sample_arr))\n",
        "print(id(sample_arr))\n",
        "print(id(s))"
      ],
      "metadata": {
        "colab": {
          "base_uri": "https://localhost:8080/"
        },
        "id": "TsR97nmfhfsO",
        "outputId": "d623fc5b-846b-433e-8d2f-2f5040304da5"
      },
      "execution_count": null,
      "outputs": [
        {
          "output_type": "stream",
          "name": "stdout",
          "text": [
            "136295315835280\n",
            "136295315835280\n",
            "136295317382384\n",
            "136295315835280\n"
          ]
        }
      ]
    },
    {
      "cell_type": "code",
      "source": [
        "slice_of_sample_arr[:] = 100\n",
        "slice_of_sample_arr"
      ],
      "metadata": {
        "colab": {
          "base_uri": "https://localhost:8080/"
        },
        "id": "wL1CJOmsifJZ",
        "outputId": "17d8bbe9-d346-4377-fa2b-a9cf38bf47e6"
      },
      "execution_count": null,
      "outputs": [
        {
          "output_type": "execute_result",
          "data": {
            "text/plain": [
              "array([100, 100, 100, 100, 100])"
            ]
          },
          "metadata": {},
          "execution_count": 163
        }
      ]
    },
    {
      "cell_type": "code",
      "source": [
        "sample_arr"
      ],
      "metadata": {
        "colab": {
          "base_uri": "https://localhost:8080/"
        },
        "id": "Qb5ERAvIln8K",
        "outputId": "92af3279-1747-4912-9020-89b4d1e5161f"
      },
      "execution_count": null,
      "outputs": [
        {
          "output_type": "execute_result",
          "data": {
            "text/plain": [
              "array([100, 100, 100, 100, 100,   6,   7,   8,   9,  10])"
            ]
          },
          "metadata": {},
          "execution_count": 164
        }
      ]
    },
    {
      "cell_type": "code",
      "source": [
        "sample_arr_copy = sample_arr.copy()\n",
        "sample_arr_copy"
      ],
      "metadata": {
        "colab": {
          "base_uri": "https://localhost:8080/"
        },
        "id": "yxBEv2iElpWZ",
        "outputId": "8fd57a0f-4c25-4161-aa0b-fcbe5de6c3d8"
      },
      "execution_count": null,
      "outputs": [
        {
          "output_type": "execute_result",
          "data": {
            "text/plain": [
              "array([100, 100, 100, 100, 100,   6,   7,   8,   9,  10])"
            ]
          },
          "metadata": {},
          "execution_count": 165
        }
      ]
    },
    {
      "cell_type": "code",
      "source": [
        "print(id(sample_arr_copy))\n",
        "print(id(sample_arr))"
      ],
      "metadata": {
        "colab": {
          "base_uri": "https://localhost:8080/"
        },
        "id": "xUtEfk_Fl0vQ",
        "outputId": "ad0ba599-74b7-4035-cab4-fa61314e5cab"
      },
      "execution_count": null,
      "outputs": [
        {
          "output_type": "stream",
          "name": "stdout",
          "text": [
            "136295315839024\n",
            "136295317382384\n"
          ]
        }
      ]
    },
    {
      "cell_type": "code",
      "source": [
        "sample_arr_copy[:]=200\n",
        "sample_arr_copy"
      ],
      "metadata": {
        "colab": {
          "base_uri": "https://localhost:8080/"
        },
        "id": "tNz0TGElmjDF",
        "outputId": "c74b36ac-f96e-4f7c-f319-ee835133392e"
      },
      "execution_count": null,
      "outputs": [
        {
          "output_type": "execute_result",
          "data": {
            "text/plain": [
              "array([200, 200, 200, 200, 200, 200, 200, 200, 200, 200])"
            ]
          },
          "metadata": {},
          "execution_count": 167
        }
      ]
    },
    {
      "cell_type": "code",
      "source": [
        "sample_arr"
      ],
      "metadata": {
        "colab": {
          "base_uri": "https://localhost:8080/"
        },
        "id": "VqqMJ0dwmxcJ",
        "outputId": "4e52340c-0d5f-4703-d550-398cebb48feb"
      },
      "execution_count": null,
      "outputs": [
        {
          "output_type": "execute_result",
          "data": {
            "text/plain": [
              "array([100, 100, 100, 100, 100,   6,   7,   8,   9,  10])"
            ]
          },
          "metadata": {},
          "execution_count": 168
        }
      ]
    },
    {
      "cell_type": "markdown",
      "source": [
        "differece b/w range and arange functions"
      ],
      "metadata": {
        "id": "X-I0bijmpV6H"
      }
    },
    {
      "cell_type": "code",
      "source": [
        "arr = np.arange(1,11)\n",
        "arr"
      ],
      "metadata": {
        "colab": {
          "base_uri": "https://localhost:8080/"
        },
        "id": "kiHrdUNmm7KM",
        "outputId": "4e8c7f4b-74dc-4c64-dd7e-156714d9282e"
      },
      "execution_count": null,
      "outputs": [
        {
          "output_type": "execute_result",
          "data": {
            "text/plain": [
              "array([ 1,  2,  3,  4,  5,  6,  7,  8,  9, 10])"
            ]
          },
          "metadata": {},
          "execution_count": 169
        }
      ]
    },
    {
      "cell_type": "code",
      "source": [
        "boolean_arr = arr > 5\n",
        "print(boolean_arr)\n",
        "print(type(boolean_arr))"
      ],
      "metadata": {
        "colab": {
          "base_uri": "https://localhost:8080/"
        },
        "id": "CB7_PdhCpVFv",
        "outputId": "ce1094b1-1da9-48b0-b6b1-8b29d336490b"
      },
      "execution_count": null,
      "outputs": [
        {
          "output_type": "stream",
          "name": "stdout",
          "text": [
            "[False False False False False  True  True  True  True  True]\n",
            "<class 'numpy.ndarray'>\n"
          ]
        }
      ]
    },
    {
      "cell_type": "code",
      "source": [
        "arr[boolean_arr]"
      ],
      "metadata": {
        "colab": {
          "base_uri": "https://localhost:8080/"
        },
        "id": "1g5g94Cspu0I",
        "outputId": "809f8731-99ca-4947-e9af-367d59a236e3"
      },
      "execution_count": null,
      "outputs": [
        {
          "output_type": "execute_result",
          "data": {
            "text/plain": [
              "array([ 6,  7,  8,  9, 10])"
            ]
          },
          "metadata": {},
          "execution_count": 171
        }
      ]
    },
    {
      "cell_type": "code",
      "source": [
        "arr[arr<5]"
      ],
      "metadata": {
        "colab": {
          "base_uri": "https://localhost:8080/"
        },
        "id": "_rn-DpYEqFJS",
        "outputId": "59dbd75c-2802-4092-b306-9880cc7b29b1"
      },
      "execution_count": null,
      "outputs": [
        {
          "output_type": "execute_result",
          "data": {
            "text/plain": [
              "array([1, 2, 3, 4])"
            ]
          },
          "metadata": {},
          "execution_count": 172
        }
      ]
    },
    {
      "cell_type": "code",
      "source": [
        "arr"
      ],
      "metadata": {
        "colab": {
          "base_uri": "https://localhost:8080/"
        },
        "id": "MwpRXDF2qJ_E",
        "outputId": "630a3d05-f5b9-415d-9034-bede6738c583"
      },
      "execution_count": null,
      "outputs": [
        {
          "output_type": "execute_result",
          "data": {
            "text/plain": [
              "array([ 1,  2,  3,  4,  5,  6,  7,  8,  9, 10])"
            ]
          },
          "metadata": {},
          "execution_count": 173
        }
      ]
    },
    {
      "cell_type": "code",
      "source": [
        "a = np.arange(0,25)\n",
        "a"
      ],
      "metadata": {
        "colab": {
          "base_uri": "https://localhost:8080/"
        },
        "id": "HB4_ecg3qK97",
        "outputId": "9771e1bf-d926-4229-cf0a-3738c385981f"
      },
      "execution_count": null,
      "outputs": [
        {
          "output_type": "execute_result",
          "data": {
            "text/plain": [
              "array([ 0,  1,  2,  3,  4,  5,  6,  7,  8,  9, 10, 11, 12, 13, 14, 15, 16,\n",
              "       17, 18, 19, 20, 21, 22, 23, 24])"
            ]
          },
          "metadata": {},
          "execution_count": 174
        }
      ]
    },
    {
      "cell_type": "code",
      "source": [
        "b = np.arange(25)\n",
        "b"
      ],
      "metadata": {
        "colab": {
          "base_uri": "https://localhost:8080/"
        },
        "id": "TYqYeMzJq7Sb",
        "outputId": "f9dfc39e-7e00-4b1c-805f-8ccd97a0d625"
      },
      "execution_count": null,
      "outputs": [
        {
          "output_type": "execute_result",
          "data": {
            "text/plain": [
              "array([ 0,  1,  2,  3,  4,  5,  6,  7,  8,  9, 10, 11, 12, 13, 14, 15, 16,\n",
              "       17, 18, 19, 20, 21, 22, 23, 24])"
            ]
          },
          "metadata": {},
          "execution_count": 175
        }
      ]
    },
    {
      "cell_type": "code",
      "source": [
        "print(\"add\",np.add(a,b))\n",
        "print(\"subtract\",np.subtract(a,b))\n",
        "print(\"multiply\",np.multiply(a,b))\n",
        "print(\"divide\",np.divide(a,b))"
      ],
      "metadata": {
        "colab": {
          "base_uri": "https://localhost:8080/"
        },
        "id": "hnd-ciOzrHib",
        "outputId": "558a203b-566a-463c-c2cb-f9f4d419e6e5"
      },
      "execution_count": null,
      "outputs": [
        {
          "output_type": "stream",
          "name": "stdout",
          "text": [
            "add [ 0  2  4  6  8 10 12 14 16 18 20 22 24 26 28 30 32 34 36 38 40 42 44 46\n",
            " 48]\n",
            "subtract [0 0 0 0 0 0 0 0 0 0 0 0 0 0 0 0 0 0 0 0 0 0 0 0 0]\n",
            "multiply [  0   1   4   9  16  25  36  49  64  81 100 121 144 169 196 225 256 289\n",
            " 324 361 400 441 484 529 576]\n",
            "divide [nan  1.  1.  1.  1.  1.  1.  1.  1.  1.  1.  1.  1.  1.  1.  1.  1.  1.\n",
            "  1.  1.  1.  1.  1.  1.  1.]\n"
          ]
        },
        {
          "output_type": "stream",
          "name": "stderr",
          "text": [
            "/tmp/ipython-input-176-334374931.py:4: RuntimeWarning: invalid value encountered in divide\n",
            "  print(\"divide\",np.divide(a,b))\n"
          ]
        }
      ]
    },
    {
      "cell_type": "code",
      "source": [
        "arr_2d = np.arange(50).reshape(5,10)\n",
        "arr_2d"
      ],
      "metadata": {
        "colab": {
          "base_uri": "https://localhost:8080/"
        },
        "id": "FxXOg7GzrSfm",
        "outputId": "1fe3d262-2f36-46a1-c39f-6a2542c879f5"
      },
      "execution_count": null,
      "outputs": [
        {
          "output_type": "execute_result",
          "data": {
            "text/plain": [
              "array([[ 0,  1,  2,  3,  4,  5,  6,  7,  8,  9],\n",
              "       [10, 11, 12, 13, 14, 15, 16, 17, 18, 19],\n",
              "       [20, 21, 22, 23, 24, 25, 26, 27, 28, 29],\n",
              "       [30, 31, 32, 33, 34, 35, 36, 37, 38, 39],\n",
              "       [40, 41, 42, 43, 44, 45, 46, 47, 48, 49]])"
            ]
          },
          "metadata": {},
          "execution_count": 177
        }
      ]
    },
    {
      "cell_type": "code",
      "source": [
        "a = np.arange(0,11)\n",
        "a"
      ],
      "metadata": {
        "colab": {
          "base_uri": "https://localhost:8080/"
        },
        "id": "_hPvZaBkt2eK",
        "outputId": "3d55ead8-323d-487e-e398-926db768ebf3"
      },
      "execution_count": null,
      "outputs": [
        {
          "output_type": "execute_result",
          "data": {
            "text/plain": [
              "array([ 0,  1,  2,  3,  4,  5,  6,  7,  8,  9, 10])"
            ]
          },
          "metadata": {},
          "execution_count": 178
        }
      ]
    },
    {
      "cell_type": "code",
      "source": [
        "b = np.dot(a,100)\n",
        "b"
      ],
      "metadata": {
        "colab": {
          "base_uri": "https://localhost:8080/"
        },
        "id": "0DhKPwbFubhR",
        "outputId": "f7a48e53-3ae6-45e4-e816-9b58362d3a69"
      },
      "execution_count": null,
      "outputs": [
        {
          "output_type": "execute_result",
          "data": {
            "text/plain": [
              "array([   0,  100,  200,  300,  400,  500,  600,  700,  800,  900, 1000])"
            ]
          },
          "metadata": {},
          "execution_count": 179
        }
      ]
    },
    {
      "cell_type": "code",
      "source": [
        "x = np.array([1,2,3])\n",
        "y = np.array([4,5,6])\n",
        "cross_product_3d = np.cross(x, y)\n",
        "print(f\"Cross product of 3D vectors: {cross_product_3d}\")"
      ],
      "metadata": {
        "colab": {
          "base_uri": "https://localhost:8080/"
        },
        "id": "CUQWDz6Mu2Du",
        "outputId": "8400f859-e1aa-4231-e277-3a8a88bba524"
      },
      "execution_count": null,
      "outputs": [
        {
          "output_type": "stream",
          "name": "stdout",
          "text": [
            "Cross product of 3D vectors: [-3  6 -3]\n"
          ]
        }
      ]
    },
    {
      "cell_type": "markdown",
      "source": [
        "implement bubble sort in python\n"
      ],
      "metadata": {
        "id": "Ds5L-_RswH8T"
      }
    },
    {
      "cell_type": "code",
      "source": [
        "print(a/a)\n",
        "print(1/a)"
      ],
      "metadata": {
        "colab": {
          "base_uri": "https://localhost:8080/"
        },
        "id": "AmWxF-KExn3r",
        "outputId": "01e9ca43-12a0-4709-f104-226a59c33d56"
      },
      "execution_count": null,
      "outputs": [
        {
          "output_type": "stream",
          "name": "stdout",
          "text": [
            "[nan  1.  1.  1.  1.  1.  1.  1.  1.  1.  1.]\n",
            "[       inf 1.         0.5        0.33333333 0.25       0.2\n",
            " 0.16666667 0.14285714 0.125      0.11111111 0.1       ]\n"
          ]
        },
        {
          "output_type": "stream",
          "name": "stderr",
          "text": [
            "/tmp/ipython-input-181-779480695.py:1: RuntimeWarning: invalid value encountered in divide\n",
            "  print(a/a)\n",
            "/tmp/ipython-input-181-779480695.py:2: RuntimeWarning: divide by zero encountered in divide\n",
            "  print(1/a)\n"
          ]
        }
      ]
    },
    {
      "cell_type": "code",
      "source": [
        "coefficient = [12,3,4,5,10]\n",
        "polynomialExp = np.poly1d(coefficient)\n",
        "print(\"type of polynomial\",type(polynomialExp))\n",
        "print(polynomialExp)\n",
        "x = 2\n",
        "result = polynomialExp(x)\n",
        "print(\"result\",result)"
      ],
      "metadata": {
        "colab": {
          "base_uri": "https://localhost:8080/"
        },
        "id": "LB5VO5KUyTGf",
        "outputId": "604b3fde-24c4-4dc4-d560-5a921cc746b3"
      },
      "execution_count": null,
      "outputs": [
        {
          "output_type": "stream",
          "name": "stdout",
          "text": [
            "type of polynomial <class 'numpy.poly1d'>\n",
            "    4     3     2\n",
            "12 x + 3 x + 4 x + 5 x + 10\n",
            "result 252\n"
          ]
        }
      ]
    },
    {
      "cell_type": "code",
      "source": [
        "a = np.matrix(((10,20,30,40),(50,60,70,80),(90,100,110,120)))\n",
        "print(\"a: \\n\",a)\n",
        "b = np.transpose(a)\n",
        "print(\"trasnpose of a: \\n\",b)"
      ],
      "metadata": {
        "colab": {
          "base_uri": "https://localhost:8080/"
        },
        "id": "CrTBCmLazlwk",
        "outputId": "93e3c31c-ae52-4115-c2de-4cb22a8c2a35"
      },
      "execution_count": null,
      "outputs": [
        {
          "output_type": "stream",
          "name": "stdout",
          "text": [
            "a: \n",
            " [[ 10  20  30  40]\n",
            " [ 50  60  70  80]\n",
            " [ 90 100 110 120]]\n",
            "trasnpose of a: \n",
            " [[ 10  50  90]\n",
            " [ 20  60 100]\n",
            " [ 30  70 110]\n",
            " [ 40  80 120]]\n"
          ]
        }
      ]
    },
    {
      "cell_type": "code",
      "source": [
        "a = np.identity(10)\n",
        "print(\"10*10 identity matrix: \\n\",a)\n",
        "print(type(a))"
      ],
      "metadata": {
        "colab": {
          "base_uri": "https://localhost:8080/"
        },
        "id": "qAd1br5F1iB2",
        "outputId": "32d6b0fe-8666-4316-94b5-3a69d9c31c9c"
      },
      "execution_count": null,
      "outputs": [
        {
          "output_type": "stream",
          "name": "stdout",
          "text": [
            "10*10 identity matrix: \n",
            " [[1. 0. 0. 0. 0. 0. 0. 0. 0. 0.]\n",
            " [0. 1. 0. 0. 0. 0. 0. 0. 0. 0.]\n",
            " [0. 0. 1. 0. 0. 0. 0. 0. 0. 0.]\n",
            " [0. 0. 0. 1. 0. 0. 0. 0. 0. 0.]\n",
            " [0. 0. 0. 0. 1. 0. 0. 0. 0. 0.]\n",
            " [0. 0. 0. 0. 0. 1. 0. 0. 0. 0.]\n",
            " [0. 0. 0. 0. 0. 0. 1. 0. 0. 0.]\n",
            " [0. 0. 0. 0. 0. 0. 0. 1. 0. 0.]\n",
            " [0. 0. 0. 0. 0. 0. 0. 0. 1. 0.]\n",
            " [0. 0. 0. 0. 0. 0. 0. 0. 0. 1.]]\n",
            "<class 'numpy.ndarray'>\n"
          ]
        }
      ]
    },
    {
      "cell_type": "code",
      "source": [
        "a = np.matrix(((10,20,30,40),(50,60,70,80),(90,100,110,120),(2,3,4,5)))\n",
        "b = np.hsplit(a,2)\n",
        "print(\"a \\n\",a)\n",
        "print(\"b \\n\",b)"
      ],
      "metadata": {
        "colab": {
          "base_uri": "https://localhost:8080/"
        },
        "id": "-oBAwLvx1yn7",
        "outputId": "feac5f00-309a-4792-9c0f-bb027e23ba23"
      },
      "execution_count": null,
      "outputs": [
        {
          "output_type": "stream",
          "name": "stdout",
          "text": [
            "a \n",
            " [[ 10  20  30  40]\n",
            " [ 50  60  70  80]\n",
            " [ 90 100 110 120]\n",
            " [  2   3   4   5]]\n",
            "b \n",
            " [matrix([[ 10,  20],\n",
            "        [ 50,  60],\n",
            "        [ 90, 100],\n",
            "        [  2,   3]]), matrix([[ 30,  40],\n",
            "        [ 70,  80],\n",
            "        [110, 120],\n",
            "        [  4,   5]])]\n"
          ]
        }
      ]
    },
    {
      "cell_type": "code",
      "source": [
        "c = b[0]\n",
        "d = b[1]\n",
        "print(\"c \\n\",c)\n",
        "print(\"d \\n\",d)"
      ],
      "metadata": {
        "colab": {
          "base_uri": "https://localhost:8080/"
        },
        "id": "-Z157uOR3fwr",
        "outputId": "5f62d5c8-c49b-4beb-e450-38190f3391c1"
      },
      "execution_count": null,
      "outputs": [
        {
          "output_type": "stream",
          "name": "stdout",
          "text": [
            "c \n",
            " [[ 10  20]\n",
            " [ 50  60]\n",
            " [ 90 100]\n",
            " [  2   3]]\n",
            "d \n",
            " [[ 30  40]\n",
            " [ 70  80]\n",
            " [110 120]\n",
            " [  4   5]]\n"
          ]
        }
      ]
    }
  ]
}